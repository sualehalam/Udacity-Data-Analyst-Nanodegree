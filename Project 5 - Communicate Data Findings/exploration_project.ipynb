{
 "cells": [
  {
   "cell_type": "markdown",
   "metadata": {},
   "source": [
    "# Visualizing FordGoBike Data\n",
    "\n",
    "\n",
    "## Preliminary Wrangling\n",
    "\n",
    "> Ford GoBike is a regional public bicycle sharing system in the San Francisco Bay Area, California. Beginning operation in August 2013 as Bay Area Bike Share, the Ford GoBike system currently has over 2,600 bicycles in 262 stations across San Francisco, East Bay and San Jose. On June 28, 2017, the system officially launched as Ford GoBike in a partnership with Ford Motor Company.\n",
    "In this project, I will perform an exploratory analysis on data provided by Ford GoBike, a bike-share system provider."
   ]
  },
  {
   "cell_type": "code",
   "execution_count": 1,
   "metadata": {},
   "outputs": [],
   "source": [
    "# import all packages and set plots to be embedded inline\n",
    "from requests import get\n",
    "from os import path, getcwd, makedirs, listdir \n",
    "from io import BytesIO\n",
    "from zipfile import ZipFile\n",
    "import pandas as pd\n",
    "import numpy as np\n",
    "import matplotlib\n",
    "from matplotlib import pyplot as plt\n",
    "import matplotlib.ticker as tick\n",
    "import seaborn as sns\n",
    "import datetime\n",
    "import math\n",
    "import calendar\n",
    "import warnings\n",
    "warnings.filterwarnings('ignore')\n",
    "from IPython.display import Image\n",
    "\n",
    "%matplotlib inline"
   ]
  },
  {
   "cell_type": "code",
   "execution_count": null,
   "metadata": {},
   "outputs": [],
   "source": [
    "folder_name_of_csvs = 'trip_data_files'"
   ]
  },
  {
   "cell_type": "code",
   "execution_count": null,
   "metadata": {},
   "outputs": [],
   "source": [
    "# This is going to take some time to run [5 minutes]\n",
    "makedirs(folder_name_of_csvs)\n",
    "pd.read_csv('https://s3.amazonaws.com/fordgobike-data/2017-fordgobike-tripdata.csv').to_csv('{}/2017-forgobike-tripdata.csv'.format(folder_name_of_csvs))\n",
    "for month in range(1,12):\n",
    "    month_string = str(month)\n",
    "    month_leading_zero = month_string.zfill(2)\n",
    "    \n",
    "    bike_data_url = 'https://s3.amazonaws.com/fordgobike-data/2018' + month_leading_zero + '-fordgobike-tripdata.csv.zip'\n",
    "    response = get(bike_data_url)\n",
    "        \n",
    "    # code below opens zip file; BytesIO returns a readable and writeable view of the contents;\n",
    "    unzipped_file = ZipFile(BytesIO(response.content))\n",
    "        \n",
    "    # puts extracted zip file into folder trip_data_files\n",
    "    unzipped_file.extractall(folder_name_of_csvs)"
   ]
  },
  {
   "cell_type": "code",
   "execution_count": 4,
   "metadata": {},
   "outputs": [],
   "source": [
    "# Combine All Locally Saved CSVs into One DataFrame\n",
    "list_csvs = []\n",
    "for file_name in listdir(folder_name_of_csvs):\n",
    "    list_csvs.append(pd.read_csv(folder_name_of_csvs+'/'+file_name))\n",
    "df = pd.concat(list_csvs)"
   ]
  },
  {
   "cell_type": "code",
   "execution_count": 5,
   "metadata": {},
   "outputs": [],
   "source": [
    "# Saving it into a new master file\n",
    "df.to_csv('master_file.csv')"
   ]
  },
  {
   "cell_type": "code",
   "execution_count": 2,
   "metadata": {},
   "outputs": [],
   "source": [
    "df = pd.read_csv('master_file.csv')"
   ]
  },
  {
   "cell_type": "markdown",
   "metadata": {},
   "source": [
    "## Assessing Data"
   ]
  },
  {
   "cell_type": "code",
   "execution_count": 3,
   "metadata": {},
   "outputs": [
    {
     "data": {
      "text/plain": [
       "(2252058, 18)"
      ]
     },
     "execution_count": 3,
     "metadata": {},
     "output_type": "execute_result"
    }
   ],
   "source": [
    "df.shape"
   ]
  },
  {
   "cell_type": "code",
   "execution_count": 8,
   "metadata": {
    "scrolled": true
   },
   "outputs": [
    {
     "data": {
      "text/html": [
       "<div>\n",
       "<style scoped>\n",
       "    .dataframe tbody tr th:only-of-type {\n",
       "        vertical-align: middle;\n",
       "    }\n",
       "\n",
       "    .dataframe tbody tr th {\n",
       "        vertical-align: top;\n",
       "    }\n",
       "\n",
       "    .dataframe thead th {\n",
       "        text-align: right;\n",
       "    }\n",
       "</style>\n",
       "<table border=\"1\" class=\"dataframe\">\n",
       "  <thead>\n",
       "    <tr style=\"text-align: right;\">\n",
       "      <th></th>\n",
       "      <th>Unnamed: 0</th>\n",
       "      <th>Unnamed: 0.1</th>\n",
       "      <th>bike_id</th>\n",
       "      <th>bike_share_for_all_trip</th>\n",
       "      <th>duration_sec</th>\n",
       "      <th>end_station_id</th>\n",
       "      <th>end_station_latitude</th>\n",
       "      <th>end_station_longitude</th>\n",
       "      <th>end_station_name</th>\n",
       "      <th>end_time</th>\n",
       "      <th>member_birth_year</th>\n",
       "      <th>member_gender</th>\n",
       "      <th>start_station_id</th>\n",
       "      <th>start_station_latitude</th>\n",
       "      <th>start_station_longitude</th>\n",
       "      <th>start_station_name</th>\n",
       "      <th>start_time</th>\n",
       "      <th>user_type</th>\n",
       "    </tr>\n",
       "  </thead>\n",
       "  <tbody>\n",
       "    <tr>\n",
       "      <th>1710838</th>\n",
       "      <td>172752</td>\n",
       "      <td>NaN</td>\n",
       "      <td>3443</td>\n",
       "      <td>No</td>\n",
       "      <td>617</td>\n",
       "      <td>67.0</td>\n",
       "      <td>37.776639</td>\n",
       "      <td>-122.395526</td>\n",
       "      <td>San Francisco Caltrain Station 2  (Townsend St...</td>\n",
       "      <td>2018-08-03 17:55:29.6960</td>\n",
       "      <td>1980.0</td>\n",
       "      <td>Male</td>\n",
       "      <td>100.0</td>\n",
       "      <td>37.767100</td>\n",
       "      <td>-122.410662</td>\n",
       "      <td>Bryant St at 15th St</td>\n",
       "      <td>2018-08-03 17:45:12.0070</td>\n",
       "      <td>Subscriber</td>\n",
       "    </tr>\n",
       "    <tr>\n",
       "      <th>259047</th>\n",
       "      <td>259047</td>\n",
       "      <td>259047.0</td>\n",
       "      <td>2919</td>\n",
       "      <td>NaN</td>\n",
       "      <td>1076</td>\n",
       "      <td>10.0</td>\n",
       "      <td>37.795393</td>\n",
       "      <td>-122.404770</td>\n",
       "      <td>Washington St at Kearny St</td>\n",
       "      <td>2017-10-10 08:31:24.3770</td>\n",
       "      <td>1979.0</td>\n",
       "      <td>Male</td>\n",
       "      <td>67.0</td>\n",
       "      <td>37.776639</td>\n",
       "      <td>-122.395526</td>\n",
       "      <td>San Francisco Caltrain Station 2  (Townsend St...</td>\n",
       "      <td>2017-10-10 08:13:27.4850</td>\n",
       "      <td>Customer</td>\n",
       "    </tr>\n",
       "    <tr>\n",
       "      <th>1817734</th>\n",
       "      <td>87486</td>\n",
       "      <td>NaN</td>\n",
       "      <td>2210</td>\n",
       "      <td>No</td>\n",
       "      <td>929</td>\n",
       "      <td>28.0</td>\n",
       "      <td>37.787168</td>\n",
       "      <td>-122.388098</td>\n",
       "      <td>The Embarcadero at Bryant St</td>\n",
       "      <td>2018-09-17 17:27:13.3160</td>\n",
       "      <td>1995.0</td>\n",
       "      <td>Female</td>\n",
       "      <td>104.0</td>\n",
       "      <td>37.767045</td>\n",
       "      <td>-122.390833</td>\n",
       "      <td>4th St at 16th St</td>\n",
       "      <td>2018-09-17 17:11:43.8470</td>\n",
       "      <td>Subscriber</td>\n",
       "    </tr>\n",
       "    <tr>\n",
       "      <th>2138061</th>\n",
       "      <td>20138</td>\n",
       "      <td>NaN</td>\n",
       "      <td>2831</td>\n",
       "      <td>No</td>\n",
       "      <td>118</td>\n",
       "      <td>124.0</td>\n",
       "      <td>37.760447</td>\n",
       "      <td>-122.410807</td>\n",
       "      <td>19th St at Florida St</td>\n",
       "      <td>2018-11-26 19:59:34.3170</td>\n",
       "      <td>1975.0</td>\n",
       "      <td>Male</td>\n",
       "      <td>112.0</td>\n",
       "      <td>37.763847</td>\n",
       "      <td>-122.413004</td>\n",
       "      <td>Harrison St at 17th St</td>\n",
       "      <td>2018-11-26 19:57:36.0030</td>\n",
       "      <td>Subscriber</td>\n",
       "    </tr>\n",
       "    <tr>\n",
       "      <th>1949612</th>\n",
       "      <td>33147</td>\n",
       "      <td>NaN</td>\n",
       "      <td>2263</td>\n",
       "      <td>No</td>\n",
       "      <td>527</td>\n",
       "      <td>158.0</td>\n",
       "      <td>37.833279</td>\n",
       "      <td>-122.263490</td>\n",
       "      <td>Shattuck Ave at Telegraph Ave</td>\n",
       "      <td>2018-10-26 12:55:19.9960</td>\n",
       "      <td>1953.0</td>\n",
       "      <td>Female</td>\n",
       "      <td>171.0</td>\n",
       "      <td>37.844279</td>\n",
       "      <td>-122.251900</td>\n",
       "      <td>Rockridge BART Station</td>\n",
       "      <td>2018-10-26 12:46:32.5500</td>\n",
       "      <td>Subscriber</td>\n",
       "    </tr>\n",
       "  </tbody>\n",
       "</table>\n",
       "</div>"
      ],
      "text/plain": [
       "         Unnamed: 0  Unnamed: 0.1  bike_id bike_share_for_all_trip  \\\n",
       "1710838      172752           NaN     3443                      No   \n",
       "259047       259047      259047.0     2919                     NaN   \n",
       "1817734       87486           NaN     2210                      No   \n",
       "2138061       20138           NaN     2831                      No   \n",
       "1949612       33147           NaN     2263                      No   \n",
       "\n",
       "         duration_sec  end_station_id  end_station_latitude  \\\n",
       "1710838           617            67.0             37.776639   \n",
       "259047           1076            10.0             37.795393   \n",
       "1817734           929            28.0             37.787168   \n",
       "2138061           118           124.0             37.760447   \n",
       "1949612           527           158.0             37.833279   \n",
       "\n",
       "         end_station_longitude  \\\n",
       "1710838            -122.395526   \n",
       "259047             -122.404770   \n",
       "1817734            -122.388098   \n",
       "2138061            -122.410807   \n",
       "1949612            -122.263490   \n",
       "\n",
       "                                          end_station_name  \\\n",
       "1710838  San Francisco Caltrain Station 2  (Townsend St...   \n",
       "259047                          Washington St at Kearny St   \n",
       "1817734                       The Embarcadero at Bryant St   \n",
       "2138061                              19th St at Florida St   \n",
       "1949612                      Shattuck Ave at Telegraph Ave   \n",
       "\n",
       "                         end_time  member_birth_year member_gender  \\\n",
       "1710838  2018-08-03 17:55:29.6960             1980.0          Male   \n",
       "259047   2017-10-10 08:31:24.3770             1979.0          Male   \n",
       "1817734  2018-09-17 17:27:13.3160             1995.0        Female   \n",
       "2138061  2018-11-26 19:59:34.3170             1975.0          Male   \n",
       "1949612  2018-10-26 12:55:19.9960             1953.0        Female   \n",
       "\n",
       "         start_station_id  start_station_latitude  start_station_longitude  \\\n",
       "1710838             100.0               37.767100              -122.410662   \n",
       "259047               67.0               37.776639              -122.395526   \n",
       "1817734             104.0               37.767045              -122.390833   \n",
       "2138061             112.0               37.763847              -122.413004   \n",
       "1949612             171.0               37.844279              -122.251900   \n",
       "\n",
       "                                        start_station_name  \\\n",
       "1710838                               Bryant St at 15th St   \n",
       "259047   San Francisco Caltrain Station 2  (Townsend St...   \n",
       "1817734                                  4th St at 16th St   \n",
       "2138061                             Harrison St at 17th St   \n",
       "1949612                             Rockridge BART Station   \n",
       "\n",
       "                       start_time   user_type  \n",
       "1710838  2018-08-03 17:45:12.0070  Subscriber  \n",
       "259047   2017-10-10 08:13:27.4850    Customer  \n",
       "1817734  2018-09-17 17:11:43.8470  Subscriber  \n",
       "2138061  2018-11-26 19:57:36.0030  Subscriber  \n",
       "1949612  2018-10-26 12:46:32.5500  Subscriber  "
      ]
     },
     "execution_count": 8,
     "metadata": {},
     "output_type": "execute_result"
    }
   ],
   "source": [
    "# Randomly displaying 5 columns for detecting errors in dataframe\n",
    "df.sample(5)"
   ]
  },
  {
   "cell_type": "code",
   "execution_count": 9,
   "metadata": {},
   "outputs": [
    {
     "name": "stdout",
     "output_type": "stream",
     "text": [
      "<class 'pandas.core.frame.DataFrame'>\n",
      "RangeIndex: 2252058 entries, 0 to 2252057\n",
      "Data columns (total 18 columns):\n",
      "Unnamed: 0                 2252058 non-null int64\n",
      "Unnamed: 0.1               519700 non-null float64\n",
      "bike_id                    2252058 non-null int64\n",
      "bike_share_for_all_trip    1732358 non-null object\n",
      "duration_sec               2252058 non-null int64\n",
      "end_station_id             2240479 non-null float64\n",
      "end_station_latitude       2252058 non-null float64\n",
      "end_station_longitude      2252058 non-null float64\n",
      "end_station_name           2240479 non-null object\n",
      "end_time                   2252058 non-null object\n",
      "member_birth_year          2079810 non-null float64\n",
      "member_gender              2080240 non-null object\n",
      "start_station_id           2240479 non-null float64\n",
      "start_station_latitude     2252058 non-null float64\n",
      "start_station_longitude    2252058 non-null float64\n",
      "start_station_name         2240479 non-null object\n",
      "start_time                 2252058 non-null object\n",
      "user_type                  2252058 non-null object\n",
      "dtypes: float64(8), int64(3), object(7)\n",
      "memory usage: 309.3+ MB\n"
     ]
    }
   ],
   "source": [
    "df.info(null_counts = True)"
   ]
  },
  {
   "cell_type": "code",
   "execution_count": 11,
   "metadata": {},
   "outputs": [
    {
     "data": {
      "text/plain": [
       "Unnamed: 0                       0\n",
       "Unnamed: 0.1               1732358\n",
       "bike_id                          0\n",
       "bike_share_for_all_trip     519700\n",
       "duration_sec                     0\n",
       "end_station_id               11579\n",
       "end_station_latitude             0\n",
       "end_station_longitude            0\n",
       "end_station_name             11579\n",
       "end_time                         0\n",
       "member_birth_year           172248\n",
       "member_gender               171818\n",
       "start_station_id             11579\n",
       "start_station_latitude           0\n",
       "start_station_longitude          0\n",
       "start_station_name           11579\n",
       "start_time                       0\n",
       "user_type                        0\n",
       "dtype: int64"
      ]
     },
     "execution_count": 11,
     "metadata": {},
     "output_type": "execute_result"
    }
   ],
   "source": [
    "df.isnull().sum()"
   ]
  },
  {
   "cell_type": "code",
   "execution_count": 12,
   "metadata": {},
   "outputs": [
    {
     "data": {
      "text/html": [
       "<div>\n",
       "<style scoped>\n",
       "    .dataframe tbody tr th:only-of-type {\n",
       "        vertical-align: middle;\n",
       "    }\n",
       "\n",
       "    .dataframe tbody tr th {\n",
       "        vertical-align: top;\n",
       "    }\n",
       "\n",
       "    .dataframe thead th {\n",
       "        text-align: right;\n",
       "    }\n",
       "</style>\n",
       "<table border=\"1\" class=\"dataframe\">\n",
       "  <thead>\n",
       "    <tr style=\"text-align: right;\">\n",
       "      <th></th>\n",
       "      <th>Unnamed: 0</th>\n",
       "      <th>Unnamed: 0.1</th>\n",
       "      <th>bike_id</th>\n",
       "      <th>duration_sec</th>\n",
       "      <th>end_station_id</th>\n",
       "      <th>end_station_latitude</th>\n",
       "      <th>end_station_longitude</th>\n",
       "      <th>member_birth_year</th>\n",
       "      <th>start_station_id</th>\n",
       "      <th>start_station_latitude</th>\n",
       "      <th>start_station_longitude</th>\n",
       "    </tr>\n",
       "  </thead>\n",
       "  <tbody>\n",
       "    <tr>\n",
       "      <th>count</th>\n",
       "      <td>2.252058e+06</td>\n",
       "      <td>519700.000000</td>\n",
       "      <td>2.252058e+06</td>\n",
       "      <td>2.252058e+06</td>\n",
       "      <td>2.240479e+06</td>\n",
       "      <td>2.252058e+06</td>\n",
       "      <td>2.252058e+06</td>\n",
       "      <td>2.079810e+06</td>\n",
       "      <td>2.240479e+06</td>\n",
       "      <td>2.252058e+06</td>\n",
       "      <td>2.252058e+06</td>\n",
       "    </tr>\n",
       "    <tr>\n",
       "      <th>mean</th>\n",
       "      <td>1.244267e+05</td>\n",
       "      <td>259849.500000</td>\n",
       "      <td>2.101589e+03</td>\n",
       "      <td>9.181335e+02</td>\n",
       "      <td>1.114495e+02</td>\n",
       "      <td>3.776810e+01</td>\n",
       "      <td>-1.223520e+02</td>\n",
       "      <td>1.982467e+03</td>\n",
       "      <td>1.132275e+02</td>\n",
       "      <td>3.776797e+01</td>\n",
       "      <td>-1.223525e+02</td>\n",
       "    </tr>\n",
       "    <tr>\n",
       "      <th>std</th>\n",
       "      <td>1.133429e+05</td>\n",
       "      <td>150024.611786</td>\n",
       "      <td>1.195229e+03</td>\n",
       "      <td>2.686599e+03</td>\n",
       "      <td>9.702559e+01</td>\n",
       "      <td>1.014484e-01</td>\n",
       "      <td>1.556892e-01</td>\n",
       "      <td>1.051074e+01</td>\n",
       "      <td>9.713899e+01</td>\n",
       "      <td>1.015587e-01</td>\n",
       "      <td>1.560933e-01</td>\n",
       "    </tr>\n",
       "    <tr>\n",
       "      <th>min</th>\n",
       "      <td>0.000000e+00</td>\n",
       "      <td>0.000000</td>\n",
       "      <td>1.000000e+01</td>\n",
       "      <td>6.100000e+01</td>\n",
       "      <td>3.000000e+00</td>\n",
       "      <td>3.726331e+01</td>\n",
       "      <td>-1.224737e+02</td>\n",
       "      <td>1.881000e+03</td>\n",
       "      <td>3.000000e+00</td>\n",
       "      <td>3.726331e+01</td>\n",
       "      <td>-1.224737e+02</td>\n",
       "    </tr>\n",
       "    <tr>\n",
       "      <th>25%</th>\n",
       "      <td>4.691700e+04</td>\n",
       "      <td>129924.750000</td>\n",
       "      <td>1.098000e+03</td>\n",
       "      <td>3.580000e+02</td>\n",
       "      <td>2.800000e+01</td>\n",
       "      <td>3.777166e+01</td>\n",
       "      <td>-1.224094e+02</td>\n",
       "      <td>1.977000e+03</td>\n",
       "      <td>3.000000e+01</td>\n",
       "      <td>3.777143e+01</td>\n",
       "      <td>-1.224114e+02</td>\n",
       "    </tr>\n",
       "    <tr>\n",
       "      <th>50%</th>\n",
       "      <td>9.383500e+04</td>\n",
       "      <td>259849.500000</td>\n",
       "      <td>2.131000e+03</td>\n",
       "      <td>5.660000e+02</td>\n",
       "      <td>8.100000e+01</td>\n",
       "      <td>3.778175e+01</td>\n",
       "      <td>-1.223971e+02</td>\n",
       "      <td>1.985000e+03</td>\n",
       "      <td>8.100000e+01</td>\n",
       "      <td>3.778127e+01</td>\n",
       "      <td>-1.223974e+02</td>\n",
       "    </tr>\n",
       "    <tr>\n",
       "      <th>75%</th>\n",
       "      <td>1.586908e+05</td>\n",
       "      <td>389774.250000</td>\n",
       "      <td>3.059000e+03</td>\n",
       "      <td>8.880000e+02</td>\n",
       "      <td>1.790000e+02</td>\n",
       "      <td>3.779539e+01</td>\n",
       "      <td>-1.222948e+02</td>\n",
       "      <td>1.990000e+03</td>\n",
       "      <td>1.800000e+02</td>\n",
       "      <td>3.779539e+01</td>\n",
       "      <td>-1.222948e+02</td>\n",
       "    </tr>\n",
       "    <tr>\n",
       "      <th>max</th>\n",
       "      <td>5.196990e+05</td>\n",
       "      <td>519699.000000</td>\n",
       "      <td>4.466000e+03</td>\n",
       "      <td>8.636900e+04</td>\n",
       "      <td>3.810000e+02</td>\n",
       "      <td>4.551000e+01</td>\n",
       "      <td>-7.357000e+01</td>\n",
       "      <td>2.000000e+03</td>\n",
       "      <td>3.810000e+02</td>\n",
       "      <td>4.551000e+01</td>\n",
       "      <td>-7.357000e+01</td>\n",
       "    </tr>\n",
       "  </tbody>\n",
       "</table>\n",
       "</div>"
      ],
      "text/plain": [
       "         Unnamed: 0   Unnamed: 0.1       bike_id  duration_sec  \\\n",
       "count  2.252058e+06  519700.000000  2.252058e+06  2.252058e+06   \n",
       "mean   1.244267e+05  259849.500000  2.101589e+03  9.181335e+02   \n",
       "std    1.133429e+05  150024.611786  1.195229e+03  2.686599e+03   \n",
       "min    0.000000e+00       0.000000  1.000000e+01  6.100000e+01   \n",
       "25%    4.691700e+04  129924.750000  1.098000e+03  3.580000e+02   \n",
       "50%    9.383500e+04  259849.500000  2.131000e+03  5.660000e+02   \n",
       "75%    1.586908e+05  389774.250000  3.059000e+03  8.880000e+02   \n",
       "max    5.196990e+05  519699.000000  4.466000e+03  8.636900e+04   \n",
       "\n",
       "       end_station_id  end_station_latitude  end_station_longitude  \\\n",
       "count    2.240479e+06          2.252058e+06           2.252058e+06   \n",
       "mean     1.114495e+02          3.776810e+01          -1.223520e+02   \n",
       "std      9.702559e+01          1.014484e-01           1.556892e-01   \n",
       "min      3.000000e+00          3.726331e+01          -1.224737e+02   \n",
       "25%      2.800000e+01          3.777166e+01          -1.224094e+02   \n",
       "50%      8.100000e+01          3.778175e+01          -1.223971e+02   \n",
       "75%      1.790000e+02          3.779539e+01          -1.222948e+02   \n",
       "max      3.810000e+02          4.551000e+01          -7.357000e+01   \n",
       "\n",
       "       member_birth_year  start_station_id  start_station_latitude  \\\n",
       "count       2.079810e+06      2.240479e+06            2.252058e+06   \n",
       "mean        1.982467e+03      1.132275e+02            3.776797e+01   \n",
       "std         1.051074e+01      9.713899e+01            1.015587e-01   \n",
       "min         1.881000e+03      3.000000e+00            3.726331e+01   \n",
       "25%         1.977000e+03      3.000000e+01            3.777143e+01   \n",
       "50%         1.985000e+03      8.100000e+01            3.778127e+01   \n",
       "75%         1.990000e+03      1.800000e+02            3.779539e+01   \n",
       "max         2.000000e+03      3.810000e+02            4.551000e+01   \n",
       "\n",
       "       start_station_longitude  \n",
       "count             2.252058e+06  \n",
       "mean             -1.223525e+02  \n",
       "std               1.560933e-01  \n",
       "min              -1.224737e+02  \n",
       "25%              -1.224114e+02  \n",
       "50%              -1.223974e+02  \n",
       "75%              -1.222948e+02  \n",
       "max              -7.357000e+01  "
      ]
     },
     "execution_count": 12,
     "metadata": {},
     "output_type": "execute_result"
    }
   ],
   "source": [
    "df.describe()"
   ]
  },
  {
   "cell_type": "code",
   "execution_count": 13,
   "metadata": {},
   "outputs": [
    {
     "data": {
      "text/plain": [
       "False"
      ]
     },
     "execution_count": 13,
     "metadata": {},
     "output_type": "execute_result"
    }
   ],
   "source": [
    "# Checking for any duplicated values\n",
    "df.duplicated().any()"
   ]
  },
  {
   "cell_type": "code",
   "execution_count": 14,
   "metadata": {},
   "outputs": [
    {
     "data": {
      "text/plain": [
       "Male      1541528\n",
       "Female     507383\n",
       "Other       31329\n",
       "Name: member_gender, dtype: int64"
      ]
     },
     "execution_count": 14,
     "metadata": {},
     "output_type": "execute_result"
    }
   ],
   "source": [
    "df['member_gender'].value_counts()"
   ]
  },
  {
   "cell_type": "code",
   "execution_count": 15,
   "metadata": {},
   "outputs": [
    {
     "data": {
      "text/plain": [
       "Subscriber    1878472\n",
       "Customer       373586\n",
       "Name: user_type, dtype: int64"
      ]
     },
     "execution_count": 15,
     "metadata": {},
     "output_type": "execute_result"
    }
   ],
   "source": [
    "df['user_type'].value_counts()"
   ]
  },
  {
   "cell_type": "markdown",
   "metadata": {},
   "source": [
    "## Data Cleaning\n",
    "\n",
    "Before assessing the data to draw conclusions, there are some quality issues that needs cleaning:\n",
    "\n",
    "\n",
    "><li> The following columns bike_id, start_station_id, end_station_id  should be in object format.\n",
    " <li> The end_time, start_time columns should be in datetime format instead of object.\n",
    " <li> The user_type, member_gender columns should be in category format instead of string.\n",
    " <li> Additionally, we can calculate the age of the user by the help of member_birth_year column\n",
    " <li> Furthermore, we can extract daysofweek, hours for further investigation.\n",
    " <li> A new column duration_min is also added to know the duration of the trip in minutes.\n",
    " <li> The member birth year has dates prior to 1900.\n",
    "     \n",
    "    "
   ]
  },
  {
   "cell_type": "code",
   "execution_count": 3,
   "metadata": {},
   "outputs": [],
   "source": [
    "# First creating a copy of the dataframe\n",
    "df_clean = df.copy()"
   ]
  },
  {
   "cell_type": "markdown",
   "metadata": {},
   "source": [
    "##### Define/Clean/Test"
   ]
  },
  {
   "cell_type": "markdown",
   "metadata": {},
   "source": [
    "**Define**: Removing the age outlyers from member_birth_year column (All ages before 1920 are considered outlyers) "
   ]
  },
  {
   "cell_type": "code",
   "execution_count": 4,
   "metadata": {},
   "outputs": [
    {
     "data": {
      "text/plain": [
       "287        1900.0\n",
       "1751       1900.0\n",
       "3119       1900.0\n",
       "3259       1900.0\n",
       "5246       1900.0\n",
       "7183       1902.0\n",
       "8077       1902.0\n",
       "9838       1900.0\n",
       "10712      1900.0\n",
       "13035      1900.0\n",
       "14779      1900.0\n",
       "15146      1902.0\n",
       "15948      1900.0\n",
       "16001      1900.0\n",
       "16466      1902.0\n",
       "16977      1902.0\n",
       "18074      1900.0\n",
       "18367      1902.0\n",
       "19981      1902.0\n",
       "20347      1902.0\n",
       "21678      1900.0\n",
       "21905      1900.0\n",
       "25809      1902.0\n",
       "25878      1902.0\n",
       "27538      1902.0\n",
       "27566      1902.0\n",
       "29217      1911.0\n",
       "30955      1900.0\n",
       "32557      1900.0\n",
       "32586      1900.0\n",
       "            ...  \n",
       "2151600    1900.0\n",
       "2155938    1900.0\n",
       "2157099    1900.0\n",
       "2159912    1900.0\n",
       "2160108    1900.0\n",
       "2161512    1900.0\n",
       "2164080    1900.0\n",
       "2167734    1900.0\n",
       "2167887    1900.0\n",
       "2168280    1911.0\n",
       "2169497    1911.0\n",
       "2176022    1902.0\n",
       "2178595    1900.0\n",
       "2181808    1902.0\n",
       "2185099    1900.0\n",
       "2185495    1900.0\n",
       "2190591    1900.0\n",
       "2196140    1902.0\n",
       "2198657    1902.0\n",
       "2200984    1900.0\n",
       "2211132    1902.0\n",
       "2215938    1900.0\n",
       "2224002    1900.0\n",
       "2224536    1900.0\n",
       "2230353    1900.0\n",
       "2230403    1900.0\n",
       "2232957    1900.0\n",
       "2234348    1900.0\n",
       "2245275    1900.0\n",
       "2249882    1902.0\n",
       "Name: member_birth_year, Length: 1478, dtype: float64"
      ]
     },
     "execution_count": 4,
     "metadata": {},
     "output_type": "execute_result"
    }
   ],
   "source": [
    "age_outlyer = df[df_clean['member_birth_year'] < 1920]\n",
    "age_outlyer['member_birth_year']"
   ]
  },
  {
   "cell_type": "code",
   "execution_count": 5,
   "metadata": {},
   "outputs": [
    {
     "data": {
      "text/plain": [
       "1881.0"
      ]
     },
     "execution_count": 5,
     "metadata": {},
     "output_type": "execute_result"
    }
   ],
   "source": [
    "# Member birth years before 1920 are also included\n",
    "df_clean['member_birth_year'].min()"
   ]
  },
  {
   "cell_type": "markdown",
   "metadata": {},
   "source": [
    "**Coding:**"
   ]
  },
  {
   "cell_type": "code",
   "execution_count": 6,
   "metadata": {},
   "outputs": [],
   "source": [
    "df_clean = df_clean.query('member_birth_year >= 1920')"
   ]
  },
  {
   "cell_type": "markdown",
   "metadata": {},
   "source": [
    "**Testing:**"
   ]
  },
  {
   "cell_type": "code",
   "execution_count": 7,
   "metadata": {},
   "outputs": [
    {
     "data": {
      "text/plain": [
       "1920.0"
      ]
     },
     "execution_count": 7,
     "metadata": {},
     "output_type": "execute_result"
    }
   ],
   "source": [
    "# The minimum birth_year we have is 1920\n",
    "df_clean['member_birth_year'].min()"
   ]
  },
  {
   "cell_type": "markdown",
   "metadata": {},
   "source": [
    "**Define:** Converting several columns to string format"
   ]
  },
  {
   "cell_type": "markdown",
   "metadata": {},
   "source": [
    "**Coding:**"
   ]
  },
  {
   "cell_type": "code",
   "execution_count": 8,
   "metadata": {},
   "outputs": [],
   "source": [
    "# converting to string using astype()\n",
    "df_clean['bike_id'] = df_clean['bike_id'].astype('str')\n",
    "df_clean['start_station_id'] = df_clean['start_station_id'].astype('str')\n",
    "df_clean['end_station_id'] = df_clean['end_station_id'].astype('str')"
   ]
  },
  {
   "cell_type": "markdown",
   "metadata": {},
   "source": [
    "**Testing:**"
   ]
  },
  {
   "cell_type": "code",
   "execution_count": 9,
   "metadata": {},
   "outputs": [
    {
     "name": "stdout",
     "output_type": "stream",
     "text": [
      "<class 'pandas.core.frame.DataFrame'>\n",
      "Int64Index: 2078332 entries, 0 to 2252057\n",
      "Data columns (total 18 columns):\n",
      "Unnamed: 0                 int64\n",
      "Unnamed: 0.1               float64\n",
      "bike_id                    object\n",
      "bike_share_for_all_trip    object\n",
      "duration_sec               int64\n",
      "end_station_id             object\n",
      "end_station_latitude       float64\n",
      "end_station_longitude      float64\n",
      "end_station_name           object\n",
      "end_time                   object\n",
      "member_birth_year          float64\n",
      "member_gender              object\n",
      "start_station_id           object\n",
      "start_station_latitude     float64\n",
      "start_station_longitude    float64\n",
      "start_station_name         object\n",
      "start_time                 object\n",
      "user_type                  object\n",
      "dtypes: float64(6), int64(2), object(10)\n",
      "memory usage: 301.3+ MB\n"
     ]
    }
   ],
   "source": [
    "# Testing to see converted successfully or not\n",
    "df_clean.info()"
   ]
  },
  {
   "cell_type": "markdown",
   "metadata": {},
   "source": [
    "**Define:** Converting end_time, start_time to datetime format instead of object."
   ]
  },
  {
   "cell_type": "markdown",
   "metadata": {},
   "source": [
    "**Code:**"
   ]
  },
  {
   "cell_type": "code",
   "execution_count": 10,
   "metadata": {},
   "outputs": [],
   "source": [
    "df_clean['end_time'] = pd.to_datetime(df_clean['end_time'])\n",
    "df_clean['start_time'] = pd.to_datetime(df_clean['start_time'])"
   ]
  },
  {
   "cell_type": "markdown",
   "metadata": {},
   "source": [
    "**Testing:**"
   ]
  },
  {
   "cell_type": "code",
   "execution_count": 11,
   "metadata": {},
   "outputs": [
    {
     "name": "stdout",
     "output_type": "stream",
     "text": [
      "<class 'pandas.core.frame.DataFrame'>\n",
      "Int64Index: 2078332 entries, 0 to 2252057\n",
      "Data columns (total 18 columns):\n",
      "Unnamed: 0                 int64\n",
      "Unnamed: 0.1               float64\n",
      "bike_id                    object\n",
      "bike_share_for_all_trip    object\n",
      "duration_sec               int64\n",
      "end_station_id             object\n",
      "end_station_latitude       float64\n",
      "end_station_longitude      float64\n",
      "end_station_name           object\n",
      "end_time                   datetime64[ns]\n",
      "member_birth_year          float64\n",
      "member_gender              object\n",
      "start_station_id           object\n",
      "start_station_latitude     float64\n",
      "start_station_longitude    float64\n",
      "start_station_name         object\n",
      "start_time                 datetime64[ns]\n",
      "user_type                  object\n",
      "dtypes: datetime64[ns](2), float64(6), int64(2), object(8)\n",
      "memory usage: 301.3+ MB\n"
     ]
    }
   ],
   "source": [
    "# Testing to see it works or not\n",
    "df_clean.info()"
   ]
  },
  {
   "cell_type": "markdown",
   "metadata": {},
   "source": [
    "**Define:** Converting user_type, member_gender columns into category format."
   ]
  },
  {
   "cell_type": "markdown",
   "metadata": {},
   "source": [
    "**Code:**"
   ]
  },
  {
   "cell_type": "code",
   "execution_count": 12,
   "metadata": {},
   "outputs": [],
   "source": [
    "# Converting into category format\n",
    "df_clean['user_type'] = df_clean['user_type'].astype('category')\n",
    "df_clean['member_gender'] = df_clean['member_gender'].astype('category')"
   ]
  },
  {
   "cell_type": "markdown",
   "metadata": {},
   "source": [
    "**Testing:**"
   ]
  },
  {
   "cell_type": "code",
   "execution_count": 13,
   "metadata": {},
   "outputs": [
    {
     "data": {
      "text/plain": [
       "(CategoricalDtype(categories=['Customer', 'Subscriber'], ordered=False),\n",
       " CategoricalDtype(categories=['Female', 'Male', 'Other'], ordered=False))"
      ]
     },
     "execution_count": 13,
     "metadata": {},
     "output_type": "execute_result"
    }
   ],
   "source": [
    "df_clean['user_type'].dtype, df_clean['member_gender'].dtype"
   ]
  },
  {
   "cell_type": "markdown",
   "metadata": {},
   "source": [
    "**Define:** Calculating the age from birth_year column"
   ]
  },
  {
   "cell_type": "markdown",
   "metadata": {},
   "source": [
    "**Code:**"
   ]
  },
  {
   "cell_type": "code",
   "execution_count": 14,
   "metadata": {},
   "outputs": [],
   "source": [
    "df_clean['member_age'] = 2020-df_clean['member_birth_year']"
   ]
  },
  {
   "cell_type": "markdown",
   "metadata": {},
   "source": [
    "**Testing:**"
   ]
  },
  {
   "cell_type": "code",
   "execution_count": 15,
   "metadata": {
    "scrolled": true
   },
   "outputs": [
    {
     "data": {
      "text/html": [
       "<div>\n",
       "<style scoped>\n",
       "    .dataframe tbody tr th:only-of-type {\n",
       "        vertical-align: middle;\n",
       "    }\n",
       "\n",
       "    .dataframe tbody tr th {\n",
       "        vertical-align: top;\n",
       "    }\n",
       "\n",
       "    .dataframe thead th {\n",
       "        text-align: right;\n",
       "    }\n",
       "</style>\n",
       "<table border=\"1\" class=\"dataframe\">\n",
       "  <thead>\n",
       "    <tr style=\"text-align: right;\">\n",
       "      <th></th>\n",
       "      <th>Unnamed: 0</th>\n",
       "      <th>Unnamed: 0.1</th>\n",
       "      <th>bike_id</th>\n",
       "      <th>bike_share_for_all_trip</th>\n",
       "      <th>duration_sec</th>\n",
       "      <th>end_station_id</th>\n",
       "      <th>end_station_latitude</th>\n",
       "      <th>end_station_longitude</th>\n",
       "      <th>end_station_name</th>\n",
       "      <th>end_time</th>\n",
       "      <th>member_birth_year</th>\n",
       "      <th>member_gender</th>\n",
       "      <th>start_station_id</th>\n",
       "      <th>start_station_latitude</th>\n",
       "      <th>start_station_longitude</th>\n",
       "      <th>start_station_name</th>\n",
       "      <th>start_time</th>\n",
       "      <th>user_type</th>\n",
       "      <th>member_age</th>\n",
       "    </tr>\n",
       "  </thead>\n",
       "  <tbody>\n",
       "    <tr>\n",
       "      <th>165017</th>\n",
       "      <td>165017</td>\n",
       "      <td>165017.0</td>\n",
       "      <td>2513</td>\n",
       "      <td>NaN</td>\n",
       "      <td>585</td>\n",
       "      <td>67.0</td>\n",
       "      <td>37.776639</td>\n",
       "      <td>-122.395526</td>\n",
       "      <td>San Francisco Caltrain Station 2  (Townsend St...</td>\n",
       "      <td>2017-11-06 08:39:24.778</td>\n",
       "      <td>1988.0</td>\n",
       "      <td>Male</td>\n",
       "      <td>33.0</td>\n",
       "      <td>37.781650</td>\n",
       "      <td>-122.415408</td>\n",
       "      <td>Golden Gate Ave at Hyde St</td>\n",
       "      <td>2017-11-06 08:29:39.722</td>\n",
       "      <td>Subscriber</td>\n",
       "      <td>32.0</td>\n",
       "    </tr>\n",
       "    <tr>\n",
       "      <th>2202235</th>\n",
       "      <td>84312</td>\n",
       "      <td>NaN</td>\n",
       "      <td>1060</td>\n",
       "      <td>No</td>\n",
       "      <td>236</td>\n",
       "      <td>16.0</td>\n",
       "      <td>37.794130</td>\n",
       "      <td>-122.394430</td>\n",
       "      <td>Steuart St at Market St</td>\n",
       "      <td>2018-11-08 17:52:52.173</td>\n",
       "      <td>1974.0</td>\n",
       "      <td>Male</td>\n",
       "      <td>6.0</td>\n",
       "      <td>37.804770</td>\n",
       "      <td>-122.403234</td>\n",
       "      <td>The Embarcadero at Sansome St</td>\n",
       "      <td>2018-11-08 17:48:55.192</td>\n",
       "      <td>Subscriber</td>\n",
       "      <td>46.0</td>\n",
       "    </tr>\n",
       "    <tr>\n",
       "      <th>1542676</th>\n",
       "      <td>4590</td>\n",
       "      <td>NaN</td>\n",
       "      <td>142</td>\n",
       "      <td>No</td>\n",
       "      <td>162</td>\n",
       "      <td>239.0</td>\n",
       "      <td>37.868813</td>\n",
       "      <td>-122.258764</td>\n",
       "      <td>Bancroft Way at Telegraph Ave</td>\n",
       "      <td>2018-08-31 09:25:06.741</td>\n",
       "      <td>1990.0</td>\n",
       "      <td>Male</td>\n",
       "      <td>253.0</td>\n",
       "      <td>37.866418</td>\n",
       "      <td>-122.253799</td>\n",
       "      <td>Haste St at College Ave</td>\n",
       "      <td>2018-08-31 09:22:24.035</td>\n",
       "      <td>Subscriber</td>\n",
       "      <td>30.0</td>\n",
       "    </tr>\n",
       "    <tr>\n",
       "      <th>1253856</th>\n",
       "      <td>110960</td>\n",
       "      <td>NaN</td>\n",
       "      <td>2313</td>\n",
       "      <td>No</td>\n",
       "      <td>848</td>\n",
       "      <td>15.0</td>\n",
       "      <td>37.795392</td>\n",
       "      <td>-122.394203</td>\n",
       "      <td>San Francisco Ferry Building (Harry Bridges Pl...</td>\n",
       "      <td>2018-06-14 09:14:36.682</td>\n",
       "      <td>1966.0</td>\n",
       "      <td>Male</td>\n",
       "      <td>67.0</td>\n",
       "      <td>37.776639</td>\n",
       "      <td>-122.395526</td>\n",
       "      <td>San Francisco Caltrain Station 2  (Townsend St...</td>\n",
       "      <td>2018-06-14 09:00:28.072</td>\n",
       "      <td>Subscriber</td>\n",
       "      <td>54.0</td>\n",
       "    </tr>\n",
       "    <tr>\n",
       "      <th>1383942</th>\n",
       "      <td>45078</td>\n",
       "      <td>NaN</td>\n",
       "      <td>1310</td>\n",
       "      <td>No</td>\n",
       "      <td>931</td>\n",
       "      <td>21.0</td>\n",
       "      <td>37.789625</td>\n",
       "      <td>-122.400811</td>\n",
       "      <td>Montgomery St BART Station (Market St at 2nd St)</td>\n",
       "      <td>2018-07-25 07:35:06.546</td>\n",
       "      <td>1979.0</td>\n",
       "      <td>Male</td>\n",
       "      <td>121.0</td>\n",
       "      <td>37.759210</td>\n",
       "      <td>-122.421339</td>\n",
       "      <td>Mission Playground</td>\n",
       "      <td>2018-07-25 07:19:35.294</td>\n",
       "      <td>Subscriber</td>\n",
       "      <td>41.0</td>\n",
       "    </tr>\n",
       "  </tbody>\n",
       "</table>\n",
       "</div>"
      ],
      "text/plain": [
       "         Unnamed: 0  Unnamed: 0.1 bike_id bike_share_for_all_trip  \\\n",
       "165017       165017      165017.0    2513                     NaN   \n",
       "2202235       84312           NaN    1060                      No   \n",
       "1542676        4590           NaN     142                      No   \n",
       "1253856      110960           NaN    2313                      No   \n",
       "1383942       45078           NaN    1310                      No   \n",
       "\n",
       "         duration_sec end_station_id  end_station_latitude  \\\n",
       "165017            585           67.0             37.776639   \n",
       "2202235           236           16.0             37.794130   \n",
       "1542676           162          239.0             37.868813   \n",
       "1253856           848           15.0             37.795392   \n",
       "1383942           931           21.0             37.789625   \n",
       "\n",
       "         end_station_longitude  \\\n",
       "165017             -122.395526   \n",
       "2202235            -122.394430   \n",
       "1542676            -122.258764   \n",
       "1253856            -122.394203   \n",
       "1383942            -122.400811   \n",
       "\n",
       "                                          end_station_name  \\\n",
       "165017   San Francisco Caltrain Station 2  (Townsend St...   \n",
       "2202235                            Steuart St at Market St   \n",
       "1542676                      Bancroft Way at Telegraph Ave   \n",
       "1253856  San Francisco Ferry Building (Harry Bridges Pl...   \n",
       "1383942   Montgomery St BART Station (Market St at 2nd St)   \n",
       "\n",
       "                       end_time  member_birth_year member_gender  \\\n",
       "165017  2017-11-06 08:39:24.778             1988.0          Male   \n",
       "2202235 2018-11-08 17:52:52.173             1974.0          Male   \n",
       "1542676 2018-08-31 09:25:06.741             1990.0          Male   \n",
       "1253856 2018-06-14 09:14:36.682             1966.0          Male   \n",
       "1383942 2018-07-25 07:35:06.546             1979.0          Male   \n",
       "\n",
       "        start_station_id  start_station_latitude  start_station_longitude  \\\n",
       "165017              33.0               37.781650              -122.415408   \n",
       "2202235              6.0               37.804770              -122.403234   \n",
       "1542676            253.0               37.866418              -122.253799   \n",
       "1253856             67.0               37.776639              -122.395526   \n",
       "1383942            121.0               37.759210              -122.421339   \n",
       "\n",
       "                                        start_station_name  \\\n",
       "165017                          Golden Gate Ave at Hyde St   \n",
       "2202235                      The Embarcadero at Sansome St   \n",
       "1542676                            Haste St at College Ave   \n",
       "1253856  San Francisco Caltrain Station 2  (Townsend St...   \n",
       "1383942                                 Mission Playground   \n",
       "\n",
       "                     start_time   user_type  member_age  \n",
       "165017  2017-11-06 08:29:39.722  Subscriber        32.0  \n",
       "2202235 2018-11-08 17:48:55.192  Subscriber        46.0  \n",
       "1542676 2018-08-31 09:22:24.035  Subscriber        30.0  \n",
       "1253856 2018-06-14 09:00:28.072  Subscriber        54.0  \n",
       "1383942 2018-07-25 07:19:35.294  Subscriber        41.0  "
      ]
     },
     "execution_count": 15,
     "metadata": {},
     "output_type": "execute_result"
    }
   ],
   "source": [
    "# Testing to check members_age column\n",
    "df_clean.sample(5)"
   ]
  },
  {
   "cell_type": "markdown",
   "metadata": {},
   "source": [
    "**Define:** Adding columns for the start_time_month, start_time_month_number, start_time_hour along with figuring out the trip duration in minutes."
   ]
  },
  {
   "cell_type": "markdown",
   "metadata": {},
   "source": [
    "**Coding:**"
   ]
  },
  {
   "cell_type": "code",
   "execution_count": 16,
   "metadata": {},
   "outputs": [],
   "source": [
    "# In order for dt.strftime() to work the datatype should be datetime \n",
    "\n",
    "# Extracting start time month's name (Jan-Dec)\n",
    "df_clean['start_time_month']= df_clean['start_time'].dt.strftime('%B')"
   ]
  },
  {
   "cell_type": "code",
   "execution_count": 17,
   "metadata": {},
   "outputs": [],
   "source": [
    "# Extract start time month's number (1-12)\n",
    "df_clean['start_time_month_number']= df_clean['start_time'].dt.month.astype(int)"
   ]
  },
  {
   "cell_type": "code",
   "execution_count": 18,
   "metadata": {},
   "outputs": [],
   "source": [
    "# Extracting start time weekdays (Mon-Sun)\n",
    "df_clean['start_time_weekday']= df_clean['start_time'].dt.strftime('%a')"
   ]
  },
  {
   "cell_type": "code",
   "execution_count": 19,
   "metadata": {},
   "outputs": [],
   "source": [
    "# Extracting Start and End time hour [using dt.hour]\n",
    "df_clean['start_time_hour'] = df_clean['start_time'].dt.hour\n",
    "df_clean['end_time_hour'] = df_clean['end_time'].dt.hour"
   ]
  },
  {
   "cell_type": "code",
   "execution_count": 20,
   "metadata": {},
   "outputs": [],
   "source": [
    "# Calculating the trip duration in minutes\n",
    "df_clean['duration_min'] = df_clean['duration_sec'] / 60\n",
    "\n",
    "# Converting duration_min into integer\n",
    "df_clean['duration_min'] = df_clean['duration_min'].astype(int)"
   ]
  },
  {
   "cell_type": "markdown",
   "metadata": {},
   "source": [
    "**Testing:**"
   ]
  },
  {
   "cell_type": "code",
   "execution_count": 21,
   "metadata": {},
   "outputs": [
    {
     "data": {
      "text/html": [
       "<div>\n",
       "<style scoped>\n",
       "    .dataframe tbody tr th:only-of-type {\n",
       "        vertical-align: middle;\n",
       "    }\n",
       "\n",
       "    .dataframe tbody tr th {\n",
       "        vertical-align: top;\n",
       "    }\n",
       "\n",
       "    .dataframe thead th {\n",
       "        text-align: right;\n",
       "    }\n",
       "</style>\n",
       "<table border=\"1\" class=\"dataframe\">\n",
       "  <thead>\n",
       "    <tr style=\"text-align: right;\">\n",
       "      <th></th>\n",
       "      <th>Unnamed: 0</th>\n",
       "      <th>Unnamed: 0.1</th>\n",
       "      <th>bike_id</th>\n",
       "      <th>bike_share_for_all_trip</th>\n",
       "      <th>duration_sec</th>\n",
       "      <th>end_station_id</th>\n",
       "      <th>end_station_latitude</th>\n",
       "      <th>end_station_longitude</th>\n",
       "      <th>end_station_name</th>\n",
       "      <th>end_time</th>\n",
       "      <th>...</th>\n",
       "      <th>start_station_name</th>\n",
       "      <th>start_time</th>\n",
       "      <th>user_type</th>\n",
       "      <th>member_age</th>\n",
       "      <th>start_time_month</th>\n",
       "      <th>start_time_month_number</th>\n",
       "      <th>start_time_weekday</th>\n",
       "      <th>start_time_hour</th>\n",
       "      <th>end_time_hour</th>\n",
       "      <th>duration_min</th>\n",
       "    </tr>\n",
       "  </thead>\n",
       "  <tbody>\n",
       "    <tr>\n",
       "      <th>2220389</th>\n",
       "      <td>102466</td>\n",
       "      <td>NaN</td>\n",
       "      <td>3267</td>\n",
       "      <td>No</td>\n",
       "      <td>1982</td>\n",
       "      <td>187.0</td>\n",
       "      <td>37.796248</td>\n",
       "      <td>-122.279352</td>\n",
       "      <td>Jack London Square</td>\n",
       "      <td>2018-11-06 09:19:46.689</td>\n",
       "      <td>...</td>\n",
       "      <td>Telegraph Ave at Carleton St</td>\n",
       "      <td>2018-11-06 08:46:44.426</td>\n",
       "      <td>Subscriber</td>\n",
       "      <td>27.0</td>\n",
       "      <td>November</td>\n",
       "      <td>11</td>\n",
       "      <td>Tue</td>\n",
       "      <td>8</td>\n",
       "      <td>9</td>\n",
       "      <td>33</td>\n",
       "    </tr>\n",
       "    <tr>\n",
       "      <th>840926</th>\n",
       "      <td>8324</td>\n",
       "      <td>NaN</td>\n",
       "      <td>3878</td>\n",
       "      <td>No</td>\n",
       "      <td>2182</td>\n",
       "      <td>93.0</td>\n",
       "      <td>37.770407</td>\n",
       "      <td>-122.391198</td>\n",
       "      <td>4th St at Mission Bay Blvd S</td>\n",
       "      <td>2018-04-29 13:12:43.720</td>\n",
       "      <td>...</td>\n",
       "      <td>24th St at Chattanooga St</td>\n",
       "      <td>2018-04-29 12:36:20.919</td>\n",
       "      <td>Customer</td>\n",
       "      <td>30.0</td>\n",
       "      <td>April</td>\n",
       "      <td>4</td>\n",
       "      <td>Sun</td>\n",
       "      <td>12</td>\n",
       "      <td>13</td>\n",
       "      <td>36</td>\n",
       "    </tr>\n",
       "    <tr>\n",
       "      <th>167641</th>\n",
       "      <td>167641</td>\n",
       "      <td>167641.0</td>\n",
       "      <td>2920</td>\n",
       "      <td>NaN</td>\n",
       "      <td>611</td>\n",
       "      <td>133.0</td>\n",
       "      <td>37.755213</td>\n",
       "      <td>-122.420975</td>\n",
       "      <td>Valencia St at 22nd St</td>\n",
       "      <td>2017-11-05 09:23:13.149</td>\n",
       "      <td>...</td>\n",
       "      <td>Eureka Valley Recreation Center</td>\n",
       "      <td>2017-11-05 09:13:01.284</td>\n",
       "      <td>Customer</td>\n",
       "      <td>42.0</td>\n",
       "      <td>November</td>\n",
       "      <td>11</td>\n",
       "      <td>Sun</td>\n",
       "      <td>9</td>\n",
       "      <td>9</td>\n",
       "      <td>10</td>\n",
       "    </tr>\n",
       "    <tr>\n",
       "      <th>352446</th>\n",
       "      <td>352446</td>\n",
       "      <td>352446.0</td>\n",
       "      <td>51</td>\n",
       "      <td>NaN</td>\n",
       "      <td>125</td>\n",
       "      <td>278.0</td>\n",
       "      <td>37.331932</td>\n",
       "      <td>-121.904888</td>\n",
       "      <td>The Alameda at Bush St</td>\n",
       "      <td>2017-09-13 09:30:31.466</td>\n",
       "      <td>...</td>\n",
       "      <td>Cahill Park</td>\n",
       "      <td>2017-09-13 09:28:26.232</td>\n",
       "      <td>Subscriber</td>\n",
       "      <td>35.0</td>\n",
       "      <td>September</td>\n",
       "      <td>9</td>\n",
       "      <td>Wed</td>\n",
       "      <td>9</td>\n",
       "      <td>9</td>\n",
       "      <td>2</td>\n",
       "    </tr>\n",
       "    <tr>\n",
       "      <th>2103661</th>\n",
       "      <td>187196</td>\n",
       "      <td>NaN</td>\n",
       "      <td>238</td>\n",
       "      <td>No</td>\n",
       "      <td>1209</td>\n",
       "      <td>157.0</td>\n",
       "      <td>37.846784</td>\n",
       "      <td>-122.291376</td>\n",
       "      <td>65th St at Hollis St</td>\n",
       "      <td>2018-10-02 21:25:01.314</td>\n",
       "      <td>...</td>\n",
       "      <td>West Oakland BART Station</td>\n",
       "      <td>2018-10-02 21:04:51.969</td>\n",
       "      <td>Subscriber</td>\n",
       "      <td>27.0</td>\n",
       "      <td>October</td>\n",
       "      <td>10</td>\n",
       "      <td>Tue</td>\n",
       "      <td>21</td>\n",
       "      <td>21</td>\n",
       "      <td>20</td>\n",
       "    </tr>\n",
       "  </tbody>\n",
       "</table>\n",
       "<p>5 rows × 25 columns</p>\n",
       "</div>"
      ],
      "text/plain": [
       "         Unnamed: 0  Unnamed: 0.1 bike_id bike_share_for_all_trip  \\\n",
       "2220389      102466           NaN    3267                      No   \n",
       "840926         8324           NaN    3878                      No   \n",
       "167641       167641      167641.0    2920                     NaN   \n",
       "352446       352446      352446.0      51                     NaN   \n",
       "2103661      187196           NaN     238                      No   \n",
       "\n",
       "         duration_sec end_station_id  end_station_latitude  \\\n",
       "2220389          1982          187.0             37.796248   \n",
       "840926           2182           93.0             37.770407   \n",
       "167641            611          133.0             37.755213   \n",
       "352446            125          278.0             37.331932   \n",
       "2103661          1209          157.0             37.846784   \n",
       "\n",
       "         end_station_longitude              end_station_name  \\\n",
       "2220389            -122.279352            Jack London Square   \n",
       "840926             -122.391198  4th St at Mission Bay Blvd S   \n",
       "167641             -122.420975        Valencia St at 22nd St   \n",
       "352446             -121.904888        The Alameda at Bush St   \n",
       "2103661            -122.291376          65th St at Hollis St   \n",
       "\n",
       "                       end_time  ...               start_station_name  \\\n",
       "2220389 2018-11-06 09:19:46.689  ...     Telegraph Ave at Carleton St   \n",
       "840926  2018-04-29 13:12:43.720  ...        24th St at Chattanooga St   \n",
       "167641  2017-11-05 09:23:13.149  ...  Eureka Valley Recreation Center   \n",
       "352446  2017-09-13 09:30:31.466  ...                      Cahill Park   \n",
       "2103661 2018-10-02 21:25:01.314  ...        West Oakland BART Station   \n",
       "\n",
       "                     start_time   user_type  member_age  start_time_month  \\\n",
       "2220389 2018-11-06 08:46:44.426  Subscriber        27.0          November   \n",
       "840926  2018-04-29 12:36:20.919    Customer        30.0             April   \n",
       "167641  2017-11-05 09:13:01.284    Customer        42.0          November   \n",
       "352446  2017-09-13 09:28:26.232  Subscriber        35.0         September   \n",
       "2103661 2018-10-02 21:04:51.969  Subscriber        27.0           October   \n",
       "\n",
       "        start_time_month_number start_time_weekday start_time_hour  \\\n",
       "2220389                      11                Tue               8   \n",
       "840926                        4                Sun              12   \n",
       "167641                       11                Sun               9   \n",
       "352446                        9                Wed               9   \n",
       "2103661                      10                Tue              21   \n",
       "\n",
       "         end_time_hour duration_min  \n",
       "2220389              9           33  \n",
       "840926              13           36  \n",
       "167641               9           10  \n",
       "352446               9            2  \n",
       "2103661             21           20  \n",
       "\n",
       "[5 rows x 25 columns]"
      ]
     },
     "execution_count": 21,
     "metadata": {},
     "output_type": "execute_result"
    }
   ],
   "source": [
    "df_clean.sample(5)"
   ]
  },
  {
   "cell_type": "markdown",
   "metadata": {},
   "source": [
    "### Storing The Data\n"
   ]
  },
  {
   "cell_type": "code",
   "execution_count": 22,
   "metadata": {},
   "outputs": [],
   "source": [
    "# Saving the cleaned data\n",
    "df_clean.to_csv('clean_master_file.csv', index=False)"
   ]
  },
  {
   "cell_type": "code",
   "execution_count": 24,
   "metadata": {},
   "outputs": [
    {
     "data": {
      "text/plain": [
       "(2078332, 25)"
      ]
     },
     "execution_count": 24,
     "metadata": {},
     "output_type": "execute_result"
    }
   ],
   "source": [
    "df_clean.shape"
   ]
  },
  {
   "cell_type": "markdown",
   "metadata": {},
   "source": [
    "> *The DataFrame size after cleaning has reduced from 2252058 to 2078332*\n",
    "\n",
    "### What is the structure of your dataset?\n",
    "\n",
    "> The dataset has approximately 2078332 bike rides in this dataset. The dataset has some important features which are listed below.\n",
    "Each trip is anonymized and includes:\n",
    "\n",
    "**Trip info**\n",
    "<li>Trip Duration (seconds)\n",
    "<li>Start Time and Date\n",
    "<li>End Time and Date\n",
    "    \n",
    "    \n",
    "**Station info**\n",
    "<li>Start Station ID\n",
    "<li>Start Station Name\n",
    "<li>Start Station Latitude\n",
    "<li>Start Station Longitude\n",
    "<li>End Station ID\n",
    "<li>End Station Name\n",
    "<li>End Station Latitude\n",
    "<li>End Station Longitude\n",
    "    \n",
    "\n",
    "**Member info** \n",
    "<li>Bike ID\n",
    "<li>User Type (Subscriber or Customer – “Subscriber” = Member or “Customer” = Casual) \n",
    "\n",
    "\n",
    "\n"
   ]
  },
  {
   "cell_type": "markdown",
   "metadata": {},
   "source": [
    "Apart from these columns, some new columns were also introduced which includes:\n",
    "\n",
    "\n",
    " <li>member_age \n",
    " <li>duration_min\n",
    " <li>start_time_month\n",
    " <li>start_time_month_number\n",
    " <li>start_time_weekday\n",
    " <li>start_time_hour\n",
    " <li>end_time_hour\n",
    "\n",
    "### What is/are the main feature(s) of interest in your dataset?\n",
    "\n",
    "> 1. Firstly, I'm interested to see at what time bikes are high in demand (during the day/weekday/month).\n",
    "2. I'm also interested in knowing which genders rented bikes the most and which gender rented for most time.\n",
    "\n",
    "### What features in the dataset do you think will help support your investigation into your feature(s) of interest?\n",
    "\n",
    "-The customers age is an important feature of interest which will help in my investigation.\n",
    "    \n",
    "-Rental Time, Month, Day are also important factors which will be considered in the investigation."
   ]
  },
  {
   "cell_type": "markdown",
   "metadata": {},
   "source": [
    "## Univariate Exploration\n",
    "\n",
    "> In this section, investigate distributions of individual variables. If\n",
    "you see unusual points or outliers, take a deeper look to clean things up\n",
    "and prepare yourself to look at relationships between variables."
   ]
  },
  {
   "cell_type": "code",
   "execution_count": 25,
   "metadata": {},
   "outputs": [],
   "source": [
    "weekday = ['Mon', 'Tue', 'Wed', 'Thu', 'Fri', 'Sat', 'Sun']"
   ]
  },
  {
   "cell_type": "code",
   "execution_count": 26,
   "metadata": {},
   "outputs": [
    {
     "data": {
      "image/png": "[encoded data removed]",
      "text/plain": [
       "<Figure size 360x360 with 1 Axes>"
      ]
     },
     "metadata": {
      "needs_background": "light"
     },
     "output_type": "display_data"
    }
   ],
   "source": [
    "cplot = sns.catplot(data=df_clean, kind='count', x='start_time_weekday',  order = weekday)\n",
    "cplot.set_axis_labels(\"Days of Week\", \"Bike Trips Count\")\n",
    "cplot.fig.suptitle('Weekly usage of the bike share system', fontsize=18, fontweight='bold');"
   ]
  },
  {
   "cell_type": "markdown",
   "metadata": {},
   "source": [
    "The bike system is used most frequently on **Tuesday**"
   ]
  },
  {
   "cell_type": "code",
   "execution_count": 27,
   "metadata": {},
   "outputs": [],
   "source": [
    "# Setting the color to default color from color_palette() function\n",
    "default_color = sns.color_palette()[0]            # 0 index is blue color, 1 index is different color and so on"
   ]
  },
  {
   "cell_type": "code",
   "execution_count": 28,
   "metadata": {},
   "outputs": [
    {
     "data": {
      "image/png": "[encoded data removed]",
      "text/plain": [
       "<Figure size 648x360 with 1 Axes>"
      ]
     },
     "metadata": {
      "needs_background": "light"
     },
     "output_type": "display_data"
    }
   ],
   "source": [
    "plt.figure(figsize = [9, 5])\n",
    "bplot = sns.boxplot(data=df_clean, x='member_age', color=default_color, orient = 'h');\n",
    "plt.title(\"Boxplot of People using Bike System\", fontsize=16, fontweight='bold');"
   ]
  },
  {
   "cell_type": "markdown",
   "metadata": {},
   "source": [
    "The box plot for age shows us that mostly the people who use the Bike system have ages between **30-45 years**."
   ]
  },
  {
   "cell_type": "code",
   "execution_count": 31,
   "metadata": {},
   "outputs": [
    {
     "data": {
      "text/plain": [
       "<Figure size 864x504 with 0 Axes>"
      ]
     },
     "metadata": {},
     "output_type": "display_data"
    },
    {
     "data": {
      "image/png": "[encoded data removed]",
      "text/plain": [
       "<Figure size 360x360 with 1 Axes>"
      ]
     },
     "metadata": {
      "needs_background": "light"
     },
     "output_type": "display_data"
    }
   ],
   "source": [
    "plt.figure(figsize = [12, 7])\n",
    "cplot = sns.catplot(data=df_clean, x='member_gender', kind='count', color=default_color);\n",
    "cplot.set_axis_labels(\"Gender\", \"Bike Trips Count\");\n",
    "cplot.fig.suptitle('Usage of Bike System by different Gender', fontsize=18, fontweight='bold', y=1.01);"
   ]
  },
  {
   "cell_type": "markdown",
   "metadata": {},
   "source": [
    "The Bike System is mostly used by the **Male** gender. It can be clearly seen from this barchart that males use the Bike system approximately **3 times more**, as compared to *Females."
   ]
  },
  {
   "cell_type": "markdown",
   "metadata": {},
   "source": [
    "### Discuss the distribution(s) of your variable(s) of interest. Were there any unusual points? Did you need to perform any transformations?\n",
    "\n",
    "After removing the age outlyers from the dataset (all ages greater than 100 are considered as outlyers), I checked each variables like monthly, weekly, and hourly trend of Bike sharing system with respect to their genders and also with respect to the user_type. All these calculations and visualizations are necessary to get a deeper understanding of this dataset. After viewing the graphs, I observed that bikes are in high demand between October and September, probably because of cold season people prefer to ride on bikes. Secondly, in weekdays people use the Bike system more frequently as compared to weekends and the peak hours when Bike system is most commonly used is 8-9 and 18-19, hence this means the bike system is used mainly around 8-9am (in the morning) and 5-6pm (when people are coming back from work).\n",
    "\n",
    "Furthermore, I observed that gender plays an important role in this dataset because males are using this Bike system approximately 3 times more as compared to women.\n",
    "\n",
    "Lastly, the Subscribers users are using the bike system much more frequently as compared to the Customer user type.\n",
    "\n",
    "### Of the features you investigated, were there any unusual distributions? Did you perform any operations on the data to tidy, adjust, or change the form of the data? If so, why did you do this?\n",
    "\n",
    "There was one unusual distribution, where the member_birth_year column had birth years dated back to 1900, which is realistically not possible so I removed the outlyers (ages greater than 100) and filtered the dataset accordingly. Secondly, I also created new columns for my ease, by calculating age of members, weekdays, months, hours etc. Lastly, I changed the datatypes of columns to the appropriate ones for calculation."
   ]
  },
  {
   "cell_type": "markdown",
   "metadata": {},
   "source": [
    "## Bivariate Exploration\n",
    "\n",
    "> In this section, we will investigate relationships between pairs of variables in our\n",
    "data."
   ]
  },
  {
   "cell_type": "markdown",
   "metadata": {},
   "source": [
    "## Weekly usage of the bike share system by Different Users"
   ]
  },
  {
   "cell_type": "code",
   "execution_count": 32,
   "metadata": {},
   "outputs": [
    {
     "data": {
      "image/png": "[encoded data removed]",
      "text/plain": [
       "<Figure size 720x360 with 2 Axes>"
      ]
     },
     "metadata": {
      "needs_background": "light"
     },
     "output_type": "display_data"
    }
   ],
   "source": [
    "cplot = sns.catplot(data=df_clean, sharey=False, x='start_time_weekday', order = weekday, col='user_type', kind='count')\n",
    "cplot.set_axis_labels(\"Days of Week\", \"Bike Trips Count\")\n",
    "\n",
    "# This will automatically name after columns \n",
    "cplot.set_titles(\"{col_name}\")\n",
    "cplot.fig.suptitle('Weekly usage of the bike share system by Different Users', fontsize=14, y=1.01);"
   ]
  },
  {
   "cell_type": "markdown",
   "metadata": {},
   "source": [
    "**These graph helps us to identify the difference in bike rents between *Customer* and *Subsciber* user types. Through this, we can see that Customers use the bike sharing system more frequently and usually on weekends including Saturday, Sunday, while the Subscribers use it mostly on businessdays to go to their work or school etc.**"
   ]
  },
  {
   "cell_type": "markdown",
   "metadata": {},
   "source": [
    "## Violin Plot of Ages of Different Users"
   ]
  },
  {
   "cell_type": "code",
   "execution_count": 33,
   "metadata": {},
   "outputs": [
    {
     "data": {
      "image/png": "[encoded data removed]",
      "text/plain": [
       "<Figure size 432x288 with 1 Axes>"
      ]
     },
     "metadata": {
      "needs_background": "light"
     },
     "output_type": "display_data"
    }
   ],
   "source": [
    "sns.violinplot(data = df_clean,x = 'user_type', y='member_age', color = sns.color_palette()[0], inner=None);"
   ]
  },
  {
   "cell_type": "markdown",
   "metadata": {},
   "source": [
    "**There is not such a significant age difference between different Customer group and Subscriber group, as evident from Violin Plot**"
   ]
  },
  {
   "cell_type": "markdown",
   "metadata": {},
   "source": [
    "## Violin Plot for different genders vs Age"
   ]
  },
  {
   "cell_type": "code",
   "execution_count": 34,
   "metadata": {},
   "outputs": [
    {
     "data": {
      "image/png": "[encoded data removed]",
      "text/plain": [
       "<Figure size 432x288 with 1 Axes>"
      ]
     },
     "metadata": {
      "needs_background": "light"
     },
     "output_type": "display_data"
    }
   ],
   "source": [
    "sns.violinplot(data = df_clean, x = 'member_gender',y='member_age',color = sns.color_palette()[0],inner=None);"
   ]
  },
  {
   "cell_type": "markdown",
   "metadata": {},
   "source": [
    "**1. Males tend to use the bike service most frequently, especially the older ones**\n",
    "\n",
    "**2. Young females (25-35 years) tend to use bikes more frequently as compared to males, and others**"
   ]
  },
  {
   "cell_type": "markdown",
   "metadata": {},
   "source": [
    "## Average Trip Duration (in minutes) of Different User Groups"
   ]
  },
  {
   "cell_type": "code",
   "execution_count": 218,
   "metadata": {},
   "outputs": [
    {
     "data": {
      "image/png": "[encoded data removed]",
      "text/plain": [
       "<Figure size 720x432 with 1 Axes>"
      ]
     },
     "metadata": {
      "needs_background": "light"
     },
     "output_type": "display_data"
    }
   ],
   "source": [
    "colors=['steelblue', 'thistle']\n",
    "axis = df_clean.groupby('user_type')['duration_min'].mean().plot(kind='bar', color=colors, figsize=(10,6))\n",
    "axis.set_title('Average Trip Duration of Each User', fontsize=20, y=1.015)\n",
    "axis.set_ylabel('User Type',  fontsize=16)\n",
    "axis.grid()         # To add gridlines\n",
    "axis.set_xlabel('Trip Duration (minutes)', fontsize=16);"
   ]
  },
  {
   "cell_type": "markdown",
   "metadata": {},
   "source": [
    "**1. From this graph, we can see that Customers average trip duration is approximately 27 minutes**\n",
    "\n",
    "**2. Secondly, Subscribers average trip duration is approximately 11 minutes.**"
   ]
  },
  {
   "cell_type": "markdown",
   "metadata": {},
   "source": [
    "### Talk about some of the relationships you observed in this part of the investigation. How did the feature(s) of interest vary with other features in the dataset?\n",
    "\n",
    "> After observing the above graphs some interesting facts were revealed about the data. Subscribers used the Bike System 88.6% since they are regular users who use Bike Sharing system for daily commutes, while the Customers used the Bike System for only 11.4% of the time, most probably for their leisure activities. After observing the trend for different users, we observe that Subscribers used the Bike system mostly at (8-9am) and (5-6pm), where as Customers used it mostly after 6pm. We also observed that mostly old males use this bike system, as compared to other genders. Also, young females (around 25-35 years old) use this bike system more frequently than males, and other gender. One important insight which we revealed was that different user groups have different Average trip duration time, where Customers use it for approximately 27 minutes (since they use it for recreational purposes), and Subscribers use it for approximately 11 minutes (since they use it to go to work, or home).\n",
    "\n",
    "### Did you observe any interesting relationships between the other features (not the main feature(s) of interest)?\n",
    "\n",
    "> I observed that there is a difference in average trip duration between customers and subscribers. Customers trip are mostly longer than subscribers, mainly because they use it for fun, leisure purpose, where as Subscribers use it mainly for commute purposes so they prefer quick rides to reach work/home."
   ]
  },
  {
   "cell_type": "markdown",
   "metadata": {},
   "source": [
    "## Multivariate Exploration\n",
    "\n",
    "> Now we will create plots of three or more variables to investigate our data even\n",
    "further. "
   ]
  },
  {
   "cell_type": "markdown",
   "metadata": {},
   "source": [
    "## Heatmap between Different Genders, Different Users and Duration of Trip (in minutes)"
   ]
  },
  {
   "cell_type": "code",
   "execution_count": 46,
   "metadata": {
    "scrolled": true
   },
   "outputs": [
    {
     "data": {
      "image/png": "[encoded data removed]",
      "text/plain": [
       "<Figure size 432x288 with 2 Axes>"
      ]
     },
     "metadata": {
      "needs_background": "light"
     },
     "output_type": "display_data"
    }
   ],
   "source": [
    "mean_gender_duration = df_clean.groupby(['member_gender', 'user_type']).mean()['duration_min']\n",
    "mean_gender_duration = mean_gender_duration.reset_index(name = 'duration_min_avg')\n",
    "mean_gender_duration = mean_gender_duration.pivot(index = 'user_type', columns = 'member_gender',\n",
    "                            values = 'duration_min_avg')\n",
    "\n",
    "sns.heatmap(mean_gender_duration, annot = True, fmt = '.3f',\n",
    "           cbar_kws = {'label' : 'mean(duration_min_avg)'});"
   ]
  },
  {
   "cell_type": "markdown",
   "metadata": {},
   "source": [
    "**This heatmap shows an interesting feature that Females overall have higher trip duration (in minutes) than Males. Females have the highest duration of trip (in minutes) that is 31.28 minutes.**\n",
    "\n",
    "**Moreover, it also strengthens our claim that Customers mean duration(in min) is close to 27 minutes and Subscribers mean duration(in min) is close to 11 minutes, as previously stated from our previous Bi-variate Analysis. This is quite evident from this heatmap as it strenghthens our previous findings**"
   ]
  },
  {
   "cell_type": "markdown",
   "metadata": {},
   "source": [
    "## Trip duration by Different Users with Different Genders"
   ]
  },
  {
   "cell_type": "code",
   "execution_count": 43,
   "metadata": {},
   "outputs": [],
   "source": [
    "# Removing the outlyers from duration_sec\n",
    "df_clean = df_clean.query('duration_sec < 3800')"
   ]
  },
  {
   "cell_type": "code",
   "execution_count": 48,
   "metadata": {},
   "outputs": [
    {
     "data": {
      "image/png": "[encoded data removed]",
      "text/plain": [
       "<Figure size 450.375x360 with 1 Axes>"
      ]
     },
     "metadata": {
      "needs_background": "light"
     },
     "output_type": "display_data"
    }
   ],
   "source": [
    "cplot = sns.catplot(data=df_clean, x='user_type', y=\"duration_sec\", hue=\"member_gender\", kind=\"violin\")\n",
    "cplot._legend.set_title('Gender')\n",
    "cplot.set_axis_labels(\"User Type\", \"Trip duration (sec)\")\n",
    "cplot.fig.suptitle('Trip duration of Different Users with Gender', y=1.01, fontsize=15);"
   ]
  },
  {
   "cell_type": "markdown",
   "metadata": {},
   "source": [
    "In this Violinplot, we can see that the Gender **Women** in both the user types have a longer trip duration(in sec). Also, this multivariate analysis strengthens our previous claim that Customers have a **much longer** trip duration than the Subscriber category."
   ]
  },
  {
   "cell_type": "markdown",
   "metadata": {},
   "source": [
    "## Weekly usage of the bike share system by Different Users with Genders"
   ]
  },
  {
   "cell_type": "code",
   "execution_count": 47,
   "metadata": {},
   "outputs": [
    {
     "data": {
      "image/png": "[encoded data removed]",
      "text/plain": [
       "<Figure size 810.375x360 with 2 Axes>"
      ]
     },
     "metadata": {
      "needs_background": "light"
     },
     "output_type": "display_data"
    }
   ],
   "source": [
    "cplot = sns.catplot(data=df_clean, kind='count', x='start_time_weekday', col=\"user_type\", hue='member_gender',order = weekday,\n",
    "                sharey=False)\n",
    "cplot._legend.set_title('Gender')\n",
    "cplot.set_axis_labels(\"Number of Days\", \"Bike Trips Count\")\n",
    "cplot.set_titles(\"{col_name}\")\n",
    "cplot.fig.suptitle('Weekly usage of the bike share system by Different Users with Genders', y=1.01, fontsize=15);"
   ]
  },
  {
   "cell_type": "markdown",
   "metadata": {},
   "source": [
    "**This graph clearly shows that Subscribers use the bike system more frequently on business days, while the Customers use the bike system more frequently on weekdays. One more important thing to note is that in both types of users the usage of bike system of males is approximately twice of females. This is quite evident from the above graph.**"
   ]
  },
  {
   "cell_type": "markdown",
   "metadata": {},
   "source": [
    "### Talk about some of the relationships you observed in this part of the investigation. Were there features that strengthened each other in terms of looking at your feature(s) of interest?\n",
    "\n",
    "> Multivariate Analysis revealed and strengthened that **Customer** users have a **much longer trip duration (in seconds)** as compared to the Subscriber users, this is because Customer users are using this Bike service system on **weekends (Saturday,Sunday)** for fun, and as a sport activity, hence they are able to dedicate lots of time to it, where as Subscribers use it on **businessdays mostly (for going to and back from work)**.\n",
    "\n",
    "### Were there any interesting or surprising interactions between features?\n",
    "\n",
    "> Plotting a heatmap with duration of bike (in minutes) between Different Genders and Different Users revealed a surprising new thing about the customers, it revealed that *Females* overall have **higher trip duration (in minutes)** than Males, and Other genders. Also, one important thing was noted that on weekends Customer group is using the Bike system more frequently as compared to regular Subscribers."
   ]
  }
 ],
 "metadata": {
  "kernelspec": {
   "display_name": "Python 3",
   "language": "python",
   "name": "python3"
  },
  "language_info": {
   "codemirror_mode": {
    "name": "ipython",
    "version": 3
   },
   "file_extension": ".py",
   "mimetype": "text/x-python",
   "name": "python",
   "nbconvert_exporter": "python",
   "pygments_lexer": "ipython3",
   "version": "3.7.3"
  }
 },
 "nbformat": 4,
 "nbformat_minor": 2
}
